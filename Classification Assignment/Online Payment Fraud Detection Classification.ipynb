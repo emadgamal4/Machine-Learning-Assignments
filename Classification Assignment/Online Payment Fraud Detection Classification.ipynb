{
 "cells": [
  {
   "cell_type": "markdown",
   "id": "44d3c4f2",
   "metadata": {},
   "source": [
    "#### https://www.kaggle.com/datasets/rupakroy/online-payments-fraud-detection-dataset"
   ]
  },
  {
   "cell_type": "code",
   "execution_count": 1,
   "id": "24f9e9aa",
   "metadata": {},
   "outputs": [],
   "source": [
    "import numpy as np \n",
    "import pandas as pd\n",
    "import sklearn\n",
    "from sklearn import metrics ,preprocessing \n",
    "import matplotlib.pyplot as plt\n",
    "import seaborn as sns\n",
    "from scipy import stats\n",
    "%matplotlib inline\n",
    "from sklearn.model_selection import train_test_split\n",
    "from sklearn.model_selection import KFold , StratifiedKFold , StratifiedShuffleSplit\n",
    "from sklearn.model_selection import cross_val_score\n",
    "from sklearn.linear_model import LinearRegression , LogisticRegression\n",
    "from sklearn.linear_model import Lasso\n",
    "from sklearn.pipeline import Pipeline\n",
    "from sklearn.pipeline import make_pipeline\n",
    "from sklearn.preprocessing import PolynomialFeatures\n",
    "from sklearn.metrics import mean_absolute_error, mean_squared_error, accuracy_score, precision_score, f1_score\n",
    "from sklearn.metrics import confusion_matrix\n",
    "from sklearn.metrics import r2_score\n",
    "from sklearn import metrics\n",
    "import warnings\n",
    "warnings.filterwarnings('ignore')"
   ]
  },
  {
   "cell_type": "code",
   "execution_count": 2,
   "id": "57ce92db",
   "metadata": {},
   "outputs": [
    {
     "data": {
      "text/html": [
       "<div>\n",
       "<style scoped>\n",
       "    .dataframe tbody tr th:only-of-type {\n",
       "        vertical-align: middle;\n",
       "    }\n",
       "\n",
       "    .dataframe tbody tr th {\n",
       "        vertical-align: top;\n",
       "    }\n",
       "\n",
       "    .dataframe thead th {\n",
       "        text-align: right;\n",
       "    }\n",
       "</style>\n",
       "<table border=\"1\" class=\"dataframe\">\n",
       "  <thead>\n",
       "    <tr style=\"text-align: right;\">\n",
       "      <th></th>\n",
       "      <th>step</th>\n",
       "      <th>type</th>\n",
       "      <th>amount</th>\n",
       "      <th>nameOrig</th>\n",
       "      <th>oldbalanceOrg</th>\n",
       "      <th>newbalanceOrig</th>\n",
       "      <th>nameDest</th>\n",
       "      <th>oldbalanceDest</th>\n",
       "      <th>newbalanceDest</th>\n",
       "      <th>isFraud</th>\n",
       "      <th>isFlaggedFraud</th>\n",
       "    </tr>\n",
       "  </thead>\n",
       "  <tbody>\n",
       "    <tr>\n",
       "      <th>0</th>\n",
       "      <td>1</td>\n",
       "      <td>PAYMENT</td>\n",
       "      <td>9839.64</td>\n",
       "      <td>C1231006815</td>\n",
       "      <td>170136.0</td>\n",
       "      <td>160296.36</td>\n",
       "      <td>M1979787155</td>\n",
       "      <td>0.0</td>\n",
       "      <td>0.0</td>\n",
       "      <td>0</td>\n",
       "      <td>0</td>\n",
       "    </tr>\n",
       "    <tr>\n",
       "      <th>1</th>\n",
       "      <td>1</td>\n",
       "      <td>PAYMENT</td>\n",
       "      <td>1864.28</td>\n",
       "      <td>C1666544295</td>\n",
       "      <td>21249.0</td>\n",
       "      <td>19384.72</td>\n",
       "      <td>M2044282225</td>\n",
       "      <td>0.0</td>\n",
       "      <td>0.0</td>\n",
       "      <td>0</td>\n",
       "      <td>0</td>\n",
       "    </tr>\n",
       "    <tr>\n",
       "      <th>2</th>\n",
       "      <td>1</td>\n",
       "      <td>TRANSFER</td>\n",
       "      <td>181.00</td>\n",
       "      <td>C1305486145</td>\n",
       "      <td>181.0</td>\n",
       "      <td>0.00</td>\n",
       "      <td>C553264065</td>\n",
       "      <td>0.0</td>\n",
       "      <td>0.0</td>\n",
       "      <td>1</td>\n",
       "      <td>0</td>\n",
       "    </tr>\n",
       "    <tr>\n",
       "      <th>3</th>\n",
       "      <td>1</td>\n",
       "      <td>CASH_OUT</td>\n",
       "      <td>181.00</td>\n",
       "      <td>C840083671</td>\n",
       "      <td>181.0</td>\n",
       "      <td>0.00</td>\n",
       "      <td>C38997010</td>\n",
       "      <td>21182.0</td>\n",
       "      <td>0.0</td>\n",
       "      <td>1</td>\n",
       "      <td>0</td>\n",
       "    </tr>\n",
       "    <tr>\n",
       "      <th>4</th>\n",
       "      <td>1</td>\n",
       "      <td>PAYMENT</td>\n",
       "      <td>11668.14</td>\n",
       "      <td>C2048537720</td>\n",
       "      <td>41554.0</td>\n",
       "      <td>29885.86</td>\n",
       "      <td>M1230701703</td>\n",
       "      <td>0.0</td>\n",
       "      <td>0.0</td>\n",
       "      <td>0</td>\n",
       "      <td>0</td>\n",
       "    </tr>\n",
       "  </tbody>\n",
       "</table>\n",
       "</div>"
      ],
      "text/plain": [
       "   step      type    amount     nameOrig  oldbalanceOrg  newbalanceOrig  \\\n",
       "0     1   PAYMENT   9839.64  C1231006815       170136.0       160296.36   \n",
       "1     1   PAYMENT   1864.28  C1666544295        21249.0        19384.72   \n",
       "2     1  TRANSFER    181.00  C1305486145          181.0            0.00   \n",
       "3     1  CASH_OUT    181.00   C840083671          181.0            0.00   \n",
       "4     1   PAYMENT  11668.14  C2048537720        41554.0        29885.86   \n",
       "\n",
       "      nameDest  oldbalanceDest  newbalanceDest  isFraud  isFlaggedFraud  \n",
       "0  M1979787155             0.0             0.0        0               0  \n",
       "1  M2044282225             0.0             0.0        0               0  \n",
       "2   C553264065             0.0             0.0        1               0  \n",
       "3    C38997010         21182.0             0.0        1               0  \n",
       "4  M1230701703             0.0             0.0        0               0  "
      ]
     },
     "execution_count": 2,
     "metadata": {},
     "output_type": "execute_result"
    }
   ],
   "source": [
    "data = pd.read_csv('online-payments-fraud-detection.csv')\n",
    "data.head()"
   ]
  },
  {
   "cell_type": "code",
   "execution_count": 3,
   "id": "299d1f04",
   "metadata": {},
   "outputs": [
    {
     "name": "stdout",
     "output_type": "stream",
     "text": [
      "(6362620, 11)\n",
      "step                int64\n",
      "type               object\n",
      "amount            float64\n",
      "nameOrig           object\n",
      "oldbalanceOrg     float64\n",
      "newbalanceOrig    float64\n",
      "nameDest           object\n",
      "oldbalanceDest    float64\n",
      "newbalanceDest    float64\n",
      "isFraud             int64\n",
      "isFlaggedFraud      int64\n",
      "dtype: object\n",
      "               step        amount  oldbalanceOrg  newbalanceOrig  \\\n",
      "count  6.362620e+06  6.362620e+06   6.362620e+06    6.362620e+06   \n",
      "mean   2.433972e+02  1.798619e+05   8.338831e+05    8.551137e+05   \n",
      "std    1.423320e+02  6.038582e+05   2.888243e+06    2.924049e+06   \n",
      "min    1.000000e+00  0.000000e+00   0.000000e+00    0.000000e+00   \n",
      "25%    1.560000e+02  1.338957e+04   0.000000e+00    0.000000e+00   \n",
      "50%    2.390000e+02  7.487194e+04   1.420800e+04    0.000000e+00   \n",
      "75%    3.350000e+02  2.087215e+05   1.073152e+05    1.442584e+05   \n",
      "max    7.430000e+02  9.244552e+07   5.958504e+07    4.958504e+07   \n",
      "\n",
      "       oldbalanceDest  newbalanceDest       isFraud  isFlaggedFraud  \n",
      "count    6.362620e+06    6.362620e+06  6.362620e+06    6.362620e+06  \n",
      "mean     1.100702e+06    1.224996e+06  1.290820e-03    2.514687e-06  \n",
      "std      3.399180e+06    3.674129e+06  3.590480e-02    1.585775e-03  \n",
      "min      0.000000e+00    0.000000e+00  0.000000e+00    0.000000e+00  \n",
      "25%      0.000000e+00    0.000000e+00  0.000000e+00    0.000000e+00  \n",
      "50%      1.327057e+05    2.146614e+05  0.000000e+00    0.000000e+00  \n",
      "75%      9.430367e+05    1.111909e+06  0.000000e+00    0.000000e+00  \n",
      "max      3.560159e+08    3.561793e+08  1.000000e+00    1.000000e+00  \n"
     ]
    }
   ],
   "source": [
    "print(data.shape)\n",
    "print(data.dtypes)\n",
    "print(data.describe())"
   ]
  },
  {
   "cell_type": "code",
   "execution_count": 4,
   "id": "e02fd826",
   "metadata": {},
   "outputs": [
    {
     "name": "stdout",
     "output_type": "stream",
     "text": [
      "step              0\n",
      "type              0\n",
      "amount            0\n",
      "nameOrig          0\n",
      "oldbalanceOrg     0\n",
      "newbalanceOrig    0\n",
      "nameDest          0\n",
      "oldbalanceDest    0\n",
      "newbalanceDest    0\n",
      "isFraud           0\n",
      "isFlaggedFraud    0\n",
      "dtype: int64\n",
      "0\n"
     ]
    }
   ],
   "source": [
    "print(data.isnull().sum())\n",
    "print((data.duplicated()==True).sum())"
   ]
  },
  {
   "cell_type": "code",
   "execution_count": 5,
   "id": "3694193d",
   "metadata": {},
   "outputs": [
    {
     "name": "stdout",
     "output_type": "stream",
     "text": [
      "CASH_OUT    2237500\n",
      "PAYMENT     2151495\n",
      "CASH_IN     1399284\n",
      "TRANSFER     532909\n",
      "DEBIT         41432\n",
      "Name: type, dtype: int64\n"
     ]
    }
   ],
   "source": [
    "print(data.type.value_counts())"
   ]
  },
  {
   "cell_type": "code",
   "execution_count": 6,
   "id": "aada1d50",
   "metadata": {},
   "outputs": [
    {
     "data": {
      "text/plain": [
       "<AxesSubplot:xlabel='type', ylabel='amount'>"
      ]
     },
     "execution_count": 6,
     "metadata": {},
     "output_type": "execute_result"
    },
    {
     "data": {
      "image/png": "[encoded data removed]",
      "text/plain": [
       "<Figure size 432x288 with 1 Axes>"
      ]
     },
     "metadata": {
      "needs_background": "light"
     },
     "output_type": "display_data"
    }
   ],
   "source": [
    "sns.barplot(x='type',y='amount',data=data)"
   ]
  },
  {
   "cell_type": "code",
   "execution_count": 7,
   "id": "871d767b",
   "metadata": {},
   "outputs": [
    {
     "name": "stdout",
     "output_type": "stream",
     "text": [
      "isFraud           1.000000\n",
      "amount            0.076688\n",
      "isFlaggedFraud    0.044109\n",
      "step              0.031578\n",
      "oldbalanceOrg     0.010154\n",
      "newbalanceDest    0.000535\n",
      "oldbalanceDest   -0.005885\n",
      "newbalanceOrig   -0.008148\n",
      "Name: isFraud, dtype: float64\n"
     ]
    }
   ],
   "source": [
    "correlation = data.corr()\n",
    "print(correlation[\"isFraud\"].sort_values(ascending=False))"
   ]
  },
  {
   "cell_type": "code",
   "execution_count": 8,
   "id": "e87d9ef9",
   "metadata": {},
   "outputs": [
    {
     "data": {
      "text/plain": [
       "0    6354407\n",
       "1       8213\n",
       "Name: isFraud, dtype: int64"
      ]
     },
     "execution_count": 8,
     "metadata": {},
     "output_type": "execute_result"
    }
   ],
   "source": [
    "data['isFraud'].value_counts()"
   ]
  },
  {
   "cell_type": "code",
   "execution_count": 9,
   "id": "083c9bc1",
   "metadata": {},
   "outputs": [],
   "source": [
    "type_new = pd.get_dummies(data['type'],drop_first=True)\n",
    "data = pd.concat([data,type_new],axis=1)"
   ]
  },
  {
   "cell_type": "code",
   "execution_count": 10,
   "id": "f9a6f335",
   "metadata": {},
   "outputs": [
    {
     "data": {
      "text/html": [
       "<div>\n",
       "<style scoped>\n",
       "    .dataframe tbody tr th:only-of-type {\n",
       "        vertical-align: middle;\n",
       "    }\n",
       "\n",
       "    .dataframe tbody tr th {\n",
       "        vertical-align: top;\n",
       "    }\n",
       "\n",
       "    .dataframe thead th {\n",
       "        text-align: right;\n",
       "    }\n",
       "</style>\n",
       "<table border=\"1\" class=\"dataframe\">\n",
       "  <thead>\n",
       "    <tr style=\"text-align: right;\">\n",
       "      <th></th>\n",
       "      <th>step</th>\n",
       "      <th>type</th>\n",
       "      <th>amount</th>\n",
       "      <th>nameOrig</th>\n",
       "      <th>oldbalanceOrg</th>\n",
       "      <th>newbalanceOrig</th>\n",
       "      <th>nameDest</th>\n",
       "      <th>oldbalanceDest</th>\n",
       "      <th>newbalanceDest</th>\n",
       "      <th>isFraud</th>\n",
       "      <th>isFlaggedFraud</th>\n",
       "      <th>CASH_OUT</th>\n",
       "      <th>DEBIT</th>\n",
       "      <th>PAYMENT</th>\n",
       "      <th>TRANSFER</th>\n",
       "    </tr>\n",
       "  </thead>\n",
       "  <tbody>\n",
       "    <tr>\n",
       "      <th>0</th>\n",
       "      <td>1</td>\n",
       "      <td>PAYMENT</td>\n",
       "      <td>9839.64</td>\n",
       "      <td>C1231006815</td>\n",
       "      <td>170136.0</td>\n",
       "      <td>160296.36</td>\n",
       "      <td>M1979787155</td>\n",
       "      <td>0.0</td>\n",
       "      <td>0.0</td>\n",
       "      <td>0</td>\n",
       "      <td>0</td>\n",
       "      <td>0</td>\n",
       "      <td>0</td>\n",
       "      <td>1</td>\n",
       "      <td>0</td>\n",
       "    </tr>\n",
       "    <tr>\n",
       "      <th>1</th>\n",
       "      <td>1</td>\n",
       "      <td>PAYMENT</td>\n",
       "      <td>1864.28</td>\n",
       "      <td>C1666544295</td>\n",
       "      <td>21249.0</td>\n",
       "      <td>19384.72</td>\n",
       "      <td>M2044282225</td>\n",
       "      <td>0.0</td>\n",
       "      <td>0.0</td>\n",
       "      <td>0</td>\n",
       "      <td>0</td>\n",
       "      <td>0</td>\n",
       "      <td>0</td>\n",
       "      <td>1</td>\n",
       "      <td>0</td>\n",
       "    </tr>\n",
       "    <tr>\n",
       "      <th>2</th>\n",
       "      <td>1</td>\n",
       "      <td>TRANSFER</td>\n",
       "      <td>181.00</td>\n",
       "      <td>C1305486145</td>\n",
       "      <td>181.0</td>\n",
       "      <td>0.00</td>\n",
       "      <td>C553264065</td>\n",
       "      <td>0.0</td>\n",
       "      <td>0.0</td>\n",
       "      <td>1</td>\n",
       "      <td>0</td>\n",
       "      <td>0</td>\n",
       "      <td>0</td>\n",
       "      <td>0</td>\n",
       "      <td>1</td>\n",
       "    </tr>\n",
       "    <tr>\n",
       "      <th>3</th>\n",
       "      <td>1</td>\n",
       "      <td>CASH_OUT</td>\n",
       "      <td>181.00</td>\n",
       "      <td>C840083671</td>\n",
       "      <td>181.0</td>\n",
       "      <td>0.00</td>\n",
       "      <td>C38997010</td>\n",
       "      <td>21182.0</td>\n",
       "      <td>0.0</td>\n",
       "      <td>1</td>\n",
       "      <td>0</td>\n",
       "      <td>1</td>\n",
       "      <td>0</td>\n",
       "      <td>0</td>\n",
       "      <td>0</td>\n",
       "    </tr>\n",
       "    <tr>\n",
       "      <th>4</th>\n",
       "      <td>1</td>\n",
       "      <td>PAYMENT</td>\n",
       "      <td>11668.14</td>\n",
       "      <td>C2048537720</td>\n",
       "      <td>41554.0</td>\n",
       "      <td>29885.86</td>\n",
       "      <td>M1230701703</td>\n",
       "      <td>0.0</td>\n",
       "      <td>0.0</td>\n",
       "      <td>0</td>\n",
       "      <td>0</td>\n",
       "      <td>0</td>\n",
       "      <td>0</td>\n",
       "      <td>1</td>\n",
       "      <td>0</td>\n",
       "    </tr>\n",
       "  </tbody>\n",
       "</table>\n",
       "</div>"
      ],
      "text/plain": [
       "   step      type    amount     nameOrig  oldbalanceOrg  newbalanceOrig  \\\n",
       "0     1   PAYMENT   9839.64  C1231006815       170136.0       160296.36   \n",
       "1     1   PAYMENT   1864.28  C1666544295        21249.0        19384.72   \n",
       "2     1  TRANSFER    181.00  C1305486145          181.0            0.00   \n",
       "3     1  CASH_OUT    181.00   C840083671          181.0            0.00   \n",
       "4     1   PAYMENT  11668.14  C2048537720        41554.0        29885.86   \n",
       "\n",
       "      nameDest  oldbalanceDest  newbalanceDest  isFraud  isFlaggedFraud  \\\n",
       "0  M1979787155             0.0             0.0        0               0   \n",
       "1  M2044282225             0.0             0.0        0               0   \n",
       "2   C553264065             0.0             0.0        1               0   \n",
       "3    C38997010         21182.0             0.0        1               0   \n",
       "4  M1230701703             0.0             0.0        0               0   \n",
       "\n",
       "   CASH_OUT  DEBIT  PAYMENT  TRANSFER  \n",
       "0         0      0        1         0  \n",
       "1         0      0        1         0  \n",
       "2         0      0        0         1  \n",
       "3         1      0        0         0  \n",
       "4         0      0        1         0  "
      ]
     },
     "execution_count": 10,
     "metadata": {},
     "output_type": "execute_result"
    }
   ],
   "source": [
    "data.head()"
   ]
  },
  {
   "cell_type": "code",
   "execution_count": 11,
   "id": "ae636fb4",
   "metadata": {},
   "outputs": [],
   "source": [
    "X = data[['step','CASH_OUT','DEBIT','PAYMENT','TRANSFER','amount','oldbalanceOrg','newbalanceOrig','oldbalanceDest','newbalanceDest','isFlaggedFraud']]\n",
    "y = data['isFraud']"
   ]
  },
  {
   "cell_type": "code",
   "execution_count": 12,
   "id": "2ca0eb7b",
   "metadata": {},
   "outputs": [],
   "source": [
    "X_train, X_test, y_train, y_test = train_test_split(X, y, test_size=0.2, random_state=42)"
   ]
  },
  {
   "cell_type": "code",
   "execution_count": 13,
   "id": "012648bc",
   "metadata": {},
   "outputs": [
    {
     "name": "stdout",
     "output_type": "stream",
     "text": [
      "              precision    recall  f1-score   support\n",
      "\n",
      "           0       1.00      1.00      1.00   1270653\n",
      "           1       0.41      0.36      0.38      1871\n",
      "\n",
      "    accuracy                           1.00   1272524\n",
      "   macro avg       0.71      0.68      0.69   1272524\n",
      "weighted avg       1.00      1.00      1.00   1272524\n",
      "\n"
     ]
    }
   ],
   "source": [
    "lr = LogisticRegression()\n",
    "lr.fit(X_train,y_train)\n",
    "y_pred = lr.predict(X_test)\n",
    "y_pred_train = lr.predict(X_train)\n",
    "from sklearn.metrics import classification_report\n",
    "print(classification_report(y_pred,y_test))"
   ]
  },
  {
   "cell_type": "code",
   "execution_count": 14,
   "id": "62382028",
   "metadata": {},
   "outputs": [
    {
     "name": "stdout",
     "output_type": "stream",
     "text": [
      "Polynomial of degree 1:\n",
      "accuracy: 0.9982788143877837\n",
      "precision: 0.36198115609880316\n",
      "recall: 0.4312149249203701\n",
      "....................................................\n",
      "accuracy: 0.9983128019589415\n",
      "precision: 0.35916622127204706\n",
      "recall: 0.4148148148148148\n",
      "Polynomial of degree 2:\n",
      "accuracy: 0.9987047395569749\n",
      "precision: 0.0\n",
      "recall: 0.0\n",
      "....................................................\n",
      "accuracy: 0.9987269395311994\n",
      "precision: 0.0\n",
      "recall: 0.0\n"
     ]
    }
   ],
   "source": [
    "for degree in range(1,3 ):\n",
    "#     scores_cv = []\n",
    "    print(f'Polynomial of degree {degree}:')\n",
    "#     print(\"..............................\")\n",
    "#     for cv in range(5,11):\n",
    "    model = make_pipeline(PolynomialFeatures(degree=degree, include_bias=False), LogisticRegression()) \n",
    "    model.fit(X_train, y_train)\n",
    "    \n",
    "    y_pred = model.predict(X_test)\n",
    "    y_pred_train = model.predict(X_train)\n",
    "    \n",
    "    print(f\"accuracy: {metrics.accuracy_score(y_train,y_pred_train)}\")\n",
    "    print(f'precision: {metrics.precision_score(y_train,y_pred_train)}')\n",
    "    print(f'recall: {metrics.recall_score(y_train,y_pred_train)}')\n",
    "    print(\"....................................................\")\n",
    "    print(f'accuracy: {metrics.accuracy_score(y_test,y_pred)}')\n",
    "    print(f'precision: {metrics.precision_score(y_test,y_pred)}')\n",
    "    print(f'recall: {metrics.recall_score(y_test,y_pred)}')"
   ]
  },
  {
   "cell_type": "code",
   "execution_count": 15,
   "id": "4c2485a0",
   "metadata": {},
   "outputs": [
    {
     "name": "stdout",
     "output_type": "stream",
     "text": [
      "0.9987269395311994\n",
      "0.0\n",
      "0.0\n"
     ]
    }
   ],
   "source": [
    "print(metrics.accuracy_score(y_test,y_pred))\n",
    "print(metrics.precision_score(y_test,y_pred))\n",
    "print(metrics.recall_score(y_test,y_pred))"
   ]
  },
  {
   "cell_type": "code",
   "execution_count": 20,
   "id": "984426af",
   "metadata": {},
   "outputs": [
    {
     "name": "stdout",
     "output_type": "stream",
     "text": [
      "split: 1\n",
      "accuracy: 0.9987898067148439\n",
      "precision: 0.0\n",
      "recall: 0.0\n",
      "split: 2\n",
      "accuracy: 0.9994043334349686\n",
      "precision: 0.0\n",
      "recall: 0.0\n",
      "split: 3\n",
      "accuracy: 0.9992998167421597\n",
      "precision: 0.0\n",
      "recall: 0.0\n",
      "split: 4\n",
      "accuracy: 0.999394903357422\n",
      "precision: 0.0\n",
      "recall: 0.0\n",
      "split: 5\n",
      "accuracy: 0.9966570375097051\n",
      "precision: 0.0\n",
      "recall: 0.0\n"
     ]
    }
   ],
   "source": [
    "X = np.array(X)\n",
    "y = np.array(y)\n",
    "kf = KFold(n_splits=5)\n",
    "kf.get_n_splits(X)\n",
    "split = 1\n",
    "for train_index, test_index in kf.split(X,y):\n",
    "    print(f'split: {split}')\n",
    "    X_train, X_test = X[train_index],X[test_index]\n",
    "    y_train, y_test = y[train_index], y[test_index]\n",
    "    model = make_pipeline(PolynomialFeatures(degree=2, include_bias=False), LogisticRegression(random_state=0)) \n",
    "    model.fit(X_train, y_train)\n",
    "    y_pred = model.predict(X_test)\n",
    "    print(f'accuracy: {metrics.accuracy_score(y_test,y_pred)}')\n",
    "    print(f'precision: {metrics.precision_score(y_test,y_pred)}')\n",
    "    print(f'recall: {metrics.recall_score(y_test,y_pred)}')\n",
    "    split+=1"
   ]
  },
  {
   "cell_type": "code",
   "execution_count": 21,
   "id": "df209643",
   "metadata": {
    "scrolled": true
   },
   "outputs": [
    {
     "name": "stdout",
     "output_type": "stream",
     "text": [
      "split: 1\n",
      "accuracy: 0.9745804401331527\n",
      "precision: 0.03484825607730636\n",
      "recall: 0.7493506493506493\n",
      "split: 2\n",
      "accuracy: 0.9996675897664798\n",
      "precision: 0.8130841121495327\n",
      "recall: 0.5738786279683378\n",
      "split: 3\n",
      "accuracy: 0.9996062942624265\n",
      "precision: 0.9733009708737864\n",
      "recall: 0.4500561167227834\n",
      "split: 4\n",
      "accuracy: 0.9996235827379287\n",
      "precision: 0.98989898989899\n",
      "recall: 0.38181818181818183\n",
      "split: 5\n",
      "accuracy: 0.9973124278991987\n",
      "precision: 1.0\n",
      "recall: 0.19605077574047955\n"
     ]
    }
   ],
   "source": [
    "X = np.array(X)\n",
    "y = np.array(y)\n",
    "kf = KFold(n_splits=5)\n",
    "kf.get_n_splits(X)\n",
    "split = 1\n",
    "for train_index, test_index in kf.split(X,y):\n",
    "    print(f'split: {split}')\n",
    "    X_train, X_test = X[train_index],X[test_index]\n",
    "    y_train, y_test = y[train_index], y[test_index]\n",
    "    model = make_pipeline(PolynomialFeatures(degree=1, include_bias=False), LogisticRegression(random_state=0)) \n",
    "    model.fit(X_train, y_train)\n",
    "    y_pred = model.predict(X_test)\n",
    "    print(f'accuracy: {metrics.accuracy_score(y_test,y_pred)}')\n",
    "    print(f'precision: {metrics.precision_score(y_test,y_pred)}')\n",
    "    print(f'recall: {metrics.recall_score(y_test,y_pred)}')\n",
    "    split+=1"
   ]
  },
  {
   "cell_type": "code",
   "execution_count": 22,
   "id": "a73d5df4",
   "metadata": {},
   "outputs": [
    {
     "name": "stdout",
     "output_type": "stream",
     "text": [
      "split: 1\n",
      "accuracy: 0.9982664374110036\n",
      "precision: 0.3603960396039604\n",
      "recall: 0.44336175395858707\n",
      "split: 2\n",
      "accuracy: 0.9982161436640881\n",
      "precision: 0.3448616600790514\n",
      "recall: 0.42509135200974424\n",
      "split: 3\n",
      "accuracy: 0.998228717100817\n",
      "precision: 0.3463855421686747\n",
      "recall: 0.42021924482338613\n",
      "split: 4\n",
      "accuracy: 0.9982255737416348\n",
      "precision: 0.3438133874239351\n",
      "recall: 0.41291108404384896\n",
      "split: 5\n",
      "accuracy: 0.998356023147697\n",
      "precision: 0.3804463336875664\n",
      "recall: 0.43605359317904996\n",
      "split: 6\n",
      "accuracy: 0.9982947276436437\n",
      "precision: 0.35927505330490406\n",
      "recall: 0.4104750304506699\n",
      "split: 7\n",
      "accuracy: 0.998242862217137\n",
      "precision: 0.34351949420442573\n",
      "recall: 0.39707673568818513\n",
      "split: 8\n",
      "accuracy: 0.9983151594783282\n",
      "precision: 0.3640303358613218\n",
      "recall: 0.4092570036540804\n",
      "split: 9\n",
      "accuracy: 0.9982334321395903\n",
      "precision: 0.3521951219512195\n",
      "recall: 0.4397076735688185\n",
      "split: 10\n",
      "accuracy: 0.9982240020620436\n",
      "precision: 0.3486777668952008\n",
      "recall: 0.4336175395858709\n"
     ]
    }
   ],
   "source": [
    "X = np.array(X)\n",
    "y = np.array(y)\n",
    "sss = StratifiedShuffleSplit(n_splits=5)\n",
    "sss.get_n_splits(X)\n",
    "split = 1\n",
    "for train_index, test_index in sss.split(X,y):\n",
    "    print(f'split: {split}')\n",
    "    X_train, X_test = X[train_index],X[test_index]\n",
    "    y_train, y_test = y[train_index], y[test_index]\n",
    "    model = make_pipeline(PolynomialFeatures(degree=2, include_bias=False), LogisticRegression(random_state=0)) \n",
    "    model.fit(X_train, y_train)\n",
    "    y_pred = model.predict(X_test)\n",
    "    print(f'accuracy: {metrics.accuracy_score(y_test,y_pred)}')\n",
    "    print(f'precision: {metrics.precision_score(y_test,y_pred)}')\n",
    "    print(f'recall: {metrics.recall_score(y_test,y_pred)}')\n",
    "    split+=1"
   ]
  },
  {
   "cell_type": "code",
   "execution_count": 23,
   "id": "59b4532d",
   "metadata": {},
   "outputs": [
    {
     "name": "stdout",
     "output_type": "stream",
     "text": [
      "split: 1\n",
      "accuracy: 0.9982978710028259\n",
      "precision: 0.3671399594320487\n",
      "recall: 0.440925700365408\n",
      "split: 2\n",
      "accuracy: 0.9982491489355014\n",
      "precision: 0.3518705763397371\n",
      "recall: 0.4238733252131547\n",
      "split: 3\n",
      "accuracy: 0.9983387346721948\n",
      "precision: 0.378099173553719\n",
      "recall: 0.4457978075517661\n",
      "split: 4\n",
      "accuracy: 0.9981847100722658\n",
      "precision: 0.3378640776699029\n",
      "recall: 0.4238733252131547\n",
      "split: 5\n",
      "accuracy: 0.9982931559640525\n",
      "precision: 0.3600844772967265\n",
      "recall: 0.415347137637028\n",
      "split: 6\n",
      "accuracy: 0.9982522922946836\n",
      "precision: 0.3507692307692308\n",
      "recall: 0.4165651644336175\n",
      "split: 7\n",
      "accuracy: 0.998299442682417\n",
      "precision: 0.3619047619047619\n",
      "recall: 0.4165651644336175\n",
      "split: 8\n",
      "accuracy: 0.9983010143620081\n",
      "precision: 0.37103174603174605\n",
      "recall: 0.45554202192448234\n",
      "split: 9\n",
      "accuracy: 0.9981799950334925\n",
      "precision: 0.33031218529707956\n",
      "recall: 0.3995127892813642\n",
      "split: 10\n",
      "accuracy: 0.9982821542069148\n",
      "precision: 0.36427145708582837\n",
      "recall: 0.4445797807551766\n"
     ]
    }
   ],
   "source": [
    "X = np.array(X)\n",
    "y = np.array(y)\n",
    "sss = StratifiedShuffleSplit(n_splits=5)\n",
    "sss.get_n_splits(X)\n",
    "split = 1\n",
    "for train_index, test_index in sss.split(X,y):\n",
    "    print(f'split: {split}')\n",
    "    X_train, X_test = X[train_index],X[test_index]\n",
    "    y_train, y_test = y[train_index], y[test_index]\n",
    "    model = make_pipeline(PolynomialFeatures(degree=1, include_bias=False), LogisticRegression(random_state=0)) \n",
    "    model.fit(X_train, y_train)\n",
    "    y_pred = model.predict(X_test)\n",
    "    print(f'accuracy: {metrics.accuracy_score(y_test,y_pred)}')\n",
    "    print(f'precision: {metrics.precision_score(y_test,y_pred)}')\n",
    "    print(f'recall: {metrics.recall_score(y_test,y_pred)}')\n",
    "    split+=1"
   ]
  },
  {
   "cell_type": "code",
   "execution_count": 26,
   "id": "1f9b851e",
   "metadata": {
    "scrolled": true
   },
   "outputs": [
    {
     "name": "stdout",
     "output_type": "stream",
     "text": [
      "[0.99881495 0.99884639 0.99888961 0.99883853 0.99888725]\n",
      "accuracy: 0.9988538963159481\n",
      "precision: 0.9987966305655837\n",
      "recall: 0.11228354978354978\n",
      "....................................................\n",
      "accuracy: 0.9988636756556262\n",
      "precision: 1.0\n",
      "recall: 0.11936662606577345\n"
     ]
    }
   ],
   "source": [
    "model = make_pipeline(PolynomialFeatures(degree=1, include_bias=False), sklearn.linear_model.RidgeClassifier()) \n",
    "model.fit(X_train, y_train)\n",
    "y_pred = model.predict(X_test)\n",
    "y_pred_train = model.predict(X_train)\n",
    "scores = cross_val_score(model, X_train, y_train, cv=5)\n",
    "print(scores)\n",
    "print(f\"accuracy: {metrics.accuracy_score(y_train,y_pred_train)}\")\n",
    "print(f'precision: {metrics.precision_score(y_train,y_pred_train)}')\n",
    "print(f'recall: {metrics.recall_score(y_train,y_pred_train)}')\n",
    "print(\"....................................................\")\n",
    "print(f'accuracy: {metrics.accuracy_score(y_test,y_pred)}')\n",
    "print(f'precision: {metrics.precision_score(y_test,y_pred)}')\n",
    "print(f'recall: {metrics.recall_score(y_test,y_pred)}')"
   ]
  },
  {
   "cell_type": "code",
   "execution_count": null,
   "id": "e28a1990",
   "metadata": {},
   "outputs": [],
   "source": [
    "# model = make_pipeline(PolynomialFeatures(degree=1, include_bias=False), sklearn.linear_model.LogisticRegressionCV(penalty='l2')) \n",
    "# model.fit(X_train, y_train)\n",
    "# y_pred = model.predict(X_test)\n",
    "# y_pred_train = model.predict(X_train)\n",
    "# scores = cross_val_score(model, X_train, y_train, cv=5)\n",
    "# print(scores)\n",
    "# print(f\"accuracy: {metrics.accuracy_score(y_train,y_pred_train)}\")\n",
    "# print(f'precision: {metrics.precision_score(y_train,y_pred_train)}')\n",
    "# print(f'recall: {metrics.recall_score(y_train,y_pred_train)}')\n",
    "# print(\"....................................................\")\n",
    "# print(f'accuracy: {metrics.accuracy_score(y_test,y_pred)}')\n",
    "# print(f'precision: {metrics.precision_score(y_test,y_pred)}')\n",
    "# print(f'recall: {metrics.recall_score(y_test,y_pred)}')"
   ]
  }
 ],
 "metadata": {
  "kernelspec": {
   "display_name": "Python 3",
   "language": "python",
   "name": "python3"
  },
  "language_info": {
   "codemirror_mode": {
    "name": "ipython",
    "version": 3
   },
   "file_extension": ".py",
   "mimetype": "text/x-python",
   "name": "python",
   "nbconvert_exporter": "python",
   "pygments_lexer": "ipython3",
   "version": "3.8.8"
  }
 },
 "nbformat": 4,
 "nbformat_minor": 5
}
